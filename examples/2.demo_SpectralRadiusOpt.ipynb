{
 "cells": [
  {
   "cell_type": "markdown",
   "id": "5257bb27",
   "metadata": {},
   "source": [
    "# Spectral Radius Optimization\n",
    "\n",
    "Optimize spectral radius taken from: Curtis, Frank E., Tim Mitchell, and Michael L. Overton. \"A BFGS-SQP method for nonsmooth, nonconvex, constrained optimization and its evaluation using relative minimization profiles.\" Optimization Methods and Software 32.1 (2017): 148-181."
   ]
  },
  {
   "cell_type": "markdown",
   "id": "16ae1959",
   "metadata": {},
   "source": [
    "## Problem Description"
   ]
  },
  {
   "cell_type": "markdown",
   "id": "72e3a77a",
   "metadata": {},
   "source": [
    "We have $M=A+BXC$,\n",
    "where the matrices $A\\in R^{N,N},B\\in R^{N,P}$ and $C\\in R^{M,N}$ are given, $X\\in R^{P,M}$ is the matrix form optimization variable.\n",
    "\n",
    "We have the nonconvex, nonsmooth, and constrained optimization problem\n",
    "$$\\min_{X}\\rho_I(A+BXC),$$\n",
    "$$\\text{s.t. }\\rho_R(A+BXC)+\\xi \\leq 0,$$\n",
    "where $\\xi$ is the stability margin, and $\\rho_I$ and $\\rho_R$ are the maximum imaginary and real part of singular values of $M$."
   ]
  },
  {
   "cell_type": "markdown",
   "id": "08dfdd50",
   "metadata": {},
   "source": [
    "## Modules Importing\n",
    "Import all necessary modules and add NCVX src folder to system path."
   ]
  },
  {
   "cell_type": "code",
   "execution_count": 1,
   "id": "90ed32f9",
   "metadata": {},
   "outputs": [],
   "source": [
    "import time\n",
    "import torch\n",
    "import os,sys\n",
    "## Adding NCVX directories. Should be modified by user\n",
    "sys.path.append('/home/buyun/Documents/GitHub/NCVX')\n",
    "from ncvx import ncvx\n",
    "from ncvxStruct import Options, Data, GeneralStruct \n",
    "import scipy.io\n",
    "from torch import linalg as LA"
   ]
  },
  {
   "cell_type": "markdown",
   "id": "17a1b7fe",
   "metadata": {},
   "source": [
    "## Data Generation \n",
    "Specify torch device, and read the data from a provided file.\n",
    "\n",
    "Use GPU for this problem. If no cuda device available, please set *device = torch.device('cpu')*"
   ]
  },
  {
   "cell_type": "code",
   "execution_count": 2,
   "id": "8b4842e1",
   "metadata": {},
   "outputs": [],
   "source": [
    "device = torch.device('cuda')\n",
    "\n",
    "# currentdir = os.path.dirname(os.path.realpath(__file__))\n",
    "file = \"/home/buyun/Documents/GitHub/NCVX/examples/data/spec_radius_opt_data.mat\"\n",
    "mat = scipy.io.loadmat(file)\n",
    "mat_struct = mat['sys']\n",
    "mat_struct = mat_struct[0,0]\n",
    "A = torch.from_numpy(mat_struct['A']).to(device=device, dtype=torch.double)\n",
    "B = torch.from_numpy(mat_struct['B']).to(device=device, dtype=torch.double)\n",
    "C = torch.from_numpy(mat_struct['C']).to(device=device, dtype=torch.double)\n",
    "p = B.shape[1]\n",
    "m = C.shape[0]\n",
    "stability_margin = 1"
   ]
  },
  {
   "cell_type": "markdown",
   "id": "ec80716b",
   "metadata": {},
   "source": [
    "## Problem Definition \n",
    "Specify optimization variables, and objective and constraint(s).\n",
    "\n",
    "Note: please strictly follow the format of comb_fn, which will be used in the NCVX main algortihm."
   ]
  },
  {
   "cell_type": "code",
   "execution_count": 3,
   "id": "fb360e75",
   "metadata": {},
   "outputs": [],
   "source": [
    "# variables and corresponding dimensions.\n",
    "var_in = {\"X\": [p,m] }\n",
    "\n",
    "def comb_fn(X_struct):\n",
    "    # user defined variable, matirx form. torch tensor\n",
    "    X = X_struct.X\n",
    "    X.requires_grad_(True)\n",
    "\n",
    "    # objective function\n",
    "    M           = A + B@X@C\n",
    "    [D,_]       = LA.eig(M)\n",
    "    f = torch.max(D.imag)\n",
    "\n",
    "    # inequality constraint, matrix form\n",
    "    ci = GeneralStruct()\n",
    "    ci.c1 = torch.max(D.real) + stability_margin\n",
    "\n",
    "    # equality constraint \n",
    "    ce = None\n",
    "    \n",
    "    return [f,ci,ce]\n"
   ]
  },
  {
   "cell_type": "markdown",
   "id": "f0f55ace",
   "metadata": {},
   "source": [
    "## User Options\n",
    "Specify user-defined options for NCVX"
   ]
  },
  {
   "cell_type": "code",
   "execution_count": 4,
   "id": "f3a65b57",
   "metadata": {},
   "outputs": [],
   "source": [
    "opts = Options()\n",
    "opts.maxit = 200\n",
    "opts.x0 = torch.zeros(p*m,1).to(device=device, dtype=torch.double)\n",
    "# print for every 10 iterations. default: 1\n",
    "opts.print_frequency = 10"
   ]
  },
  {
   "cell_type": "markdown",
   "id": "8bca18c7",
   "metadata": {},
   "source": [
    "## Main Algorithm"
   ]
  },
  {
   "cell_type": "code",
   "execution_count": 5,
   "id": "632976b3",
   "metadata": {},
   "outputs": [
    {
     "name": "stdout",
     "output_type": "stream",
     "text": [
      "\n",
      "\n",
      "\u001b[33m╔═════ QP SOLVER NOTICE ════════════════════════════════════════════════════════════════════╗\n",
      "\u001b[0m\u001b[33m║  NCVX requires a quadratic program (QP) solver that has a quadprog-compatible interface,  ║\n",
      "\u001b[0m\u001b[33m║  the default is osqp. Users may provide their own wrapper for the QP solver.              ║\n",
      "\u001b[0m\u001b[33m║  To disable this notice, set opts.quadprog_info_msg = False                               ║\n",
      "\u001b[0m\u001b[33m╚═══════════════════════════════════════════════════════════════════════════════════════════╝\n",
      "\u001b[0m═════════════════════════════════════════════════════════════════════════════════════════════════════════════════╗\n",
      "NCVX: A User-Friendly and Scalable Package for Nonconvex Optimization in Machine Learning                        ║ \n",
      "Version 1.1.1                                                                                                    ║ \n",
      "MIT License Copyright (c) 2021 SUN Group @ UMN                                                                   ║ \n",
      "═════════════════════════════════════════════════════════════════════════════════════════════════════════════════╣\n",
      "Problem specifications:                                                                                          ║ \n",
      " # of variables                     :   200                                                                      ║ \n",
      " # of inequality constraints        :     1                                                                      ║ \n",
      " # of equality constraints          :     0                                                                      ║ \n",
      "═════╦═══════════════════════════╦════════════════╦═════════════════╦═══════════════════════╦════════════════════╣\n",
      "     ║ <--- Penalty Function --> ║                ║ Total Violation ║ <--- Line Search ---> ║ <- Stationarity -> ║ \n",
      "Iter ║    Mu    │      Value     ║    Objective   ║   Ineq   │  Eq  ║ SD │ Evals │     t    ║ Grads │    Value   ║ \n",
      "═════╬═══════════════════════════╬════════════════╬═════════════════╬═══════════════════════╬════════════════════╣\n",
      "   0 ║ 1.000000 │  16.2063030241 ║  13.7635444107 ║ 2.442759 │   -  ║ -  │     1 │ 0.000000 ║     1 │ 28.28938   ║ \n",
      "  10 ║ 1.000000 │  14.3591621233 ║  12.9268286638 ║ 1.432333 │   -  ║ S  │     1 │ 1.000000 ║     1 │ 0.035476   ║ \n",
      "  20 ║ 1.000000 │  13.7108148212 ║  12.6560766192 ║ 1.054738 │   -  ║ S  │     2 │ 0.500000 ║     1 │ 0.039916   ║ \n",
      "  30 ║ 1.000000 │  12.9782220942 ║  12.2693137709 ║ 0.708908 │   -  ║ S  │     5 │ 0.062500 ║     1 │ 0.044720   ║ \n",
      "  40 ║ 1.000000 │  12.6284908340 ║  12.0379295133 ║ 0.590561 │   -  ║ S  │     4 │ 0.125000 ║     1 │ 0.022901   ║ \n",
      "  50 ║ 0.810000 │  10.0837700291 ║  11.9700251005 ║ 0.388050 │   -  ║ S  │     5 │ 0.062500 ║     1 │ 0.024644   ║ \n",
      "  60 ║ 0.810000 │  9.88304799345 ║  11.8598401602 ║ 0.276577 │   -  ║ S  │     5 │ 0.062500 ║     1 │ 0.017742   ║ \n",
      "  70 ║ 0.810000 │  9.71520767326 ║  11.8128849771 ║ 0.146771 │   -  ║ S  │     6 │ 0.031250 ║     1 │ 0.032203   ║ \n",
      "  80 ║ 0.810000 │  9.60333585356 ║  11.7396271110 ║ 0.094238 │   -  ║ S  │     9 │ 0.003906 ║     1 │ 0.039540   ║ \n",
      "  90 ║ 0.810000 │  9.53677311296 ║  11.7203174928 ║ 0.043316 │   -  ║ S  │     3 │ 0.250000 ║     1 │ 0.021097   ║ \n",
      " 100 ║ 0.810000 │  9.48591178028 ║  11.6570879205 ║ 0.043671 │   -  ║ S  │     6 │ 0.031250 ║     1 │ 0.018721   ║ \n",
      " 110 ║ 0.810000 │  9.42957129746 ║  11.6214487572 ║ 0.016198 │   -  ║ S  │     8 │ 0.007812 ║     1 │ 0.042185   ║ \n",
      " 120 ║ 0.810000 │  9.36860016339 ║  11.5609292759 ║ 0.004247 │   -  ║ S  │     3 │ 0.250000 ║     1 │ 0.215605   ║ \n",
      " 130 ║ 0.810000 │  9.32720142963 ║  11.5150634934 ║ 0.000000 │   -  ║ S  │     4 │ 0.125000 ║     1 │ 0.012880   ║ \n",
      " 140 ║ 0.810000 │  9.24283660956 ║  11.3974429537 ║ 0.010908 │   -  ║ S  │     4 │ 0.125000 ║     1 │ 0.016940   ║ \n",
      " 150 ║ 0.531441 │  6.04128538239 ║  11.3590100679 ║ 0.004642 │   -  ║ S  │     7 │ 0.015625 ║     1 │ 0.005769   ║ \n",
      " 160 ║ 0.531441 │  6.00369357304 ║  11.2970086483 ║ 0.000000 │   -  ║ S  │     3 │ 0.250000 ║     1 │ 0.008521   ║ \n",
      " 170 ║ 0.531441 │  5.98469812397 ║  11.2612653596 ║ 0.000000 │   -  ║ S  │     9 │ 0.003906 ║     2 │ 0.005196   ║ \n",
      " 180 ║ 0.531441 │  5.97177934679 ║  11.2279888768 ║ 0.004766 │   -  ║ S  │     4 │ 0.125000 ║     1 │ 0.009571   ║ \n",
      " 190 ║ 0.088629 │  0.99196515306 ║  11.1922834129 ║ 0.000000 │   -  ║ S  │     6 │ 0.031250 ║     1 │ 9.35e-04   ║ \n",
      "═════╬═══════════════════════════╬════════════════╬═════════════════╬═══════════════════════╬════════════════════╣\n",
      "     ║ <--- Penalty Function --> ║                ║ Total Violation ║ <--- Line Search ---> ║ <- Stationarity -> ║ \n",
      "Iter ║    Mu    │      Value     ║    Objective   ║   Ineq   │  Eq  ║ SD │ Evals │     t    ║ Grads │    Value   ║ \n",
      "═════╬═══════════════════════════╬════════════════╬═════════════════╬═══════════════════════╬════════════════════╣\n",
      " 200 ║ 0.088629 │  0.98966513519 ║  11.1651880479 ║ 1.01e-04 │   -  ║ S  │     6 │ 0.031250 ║     1 │ 0.004555   ║ \n",
      "═════╩═══════════════════════════╩════════════════╩═════════════════╩═══════════════════════╩════════════════════╣\n",
      "Optimization results:                                                                                            ║ \n",
      "F = final iterate, B = Best (to tolerance), MF = Most Feasible                                                   ║ \n",
      "═════╦═══════════════════════════╦════════════════╦═════════════════╦═══════════════════════╦════════════════════╣\n",
      "   F ║          │                ║  11.1651880479 ║ 1.01e-04 │   -  ║    │       │          ║       │            ║ \n",
      "   B ║          │                ║  11.1682971564 ║ 0.000000 │   -  ║    │       │          ║       │            ║ \n",
      "  MF ║          │                ║  11.1682971564 ║ 0.000000 │   -  ║    │       │          ║       │            ║ \n",
      "═════╩═══════════════════════════╩════════════════╩═════════════════╩═══════════════════════╩════════════════════╣\n",
      "Iterations:              200                                                                                     ║ \n",
      "Function evaluations:    991                                                                                     ║ \n",
      "NCVX termination code: 4 --- max iterations reached.                                                             ║ \n",
      "═════════════════════════════════════════════════════════════════════════════════════════════════════════════════╝\n",
      "Total Wall Time: 75.74924397468567s\n"
     ]
    }
   ],
   "source": [
    "start = time.time()\n",
    "soln = ncvx(combinedFunction = comb_fn,var_dim_map = var_in, torch_device = device, user_opts = opts)\n",
    "end = time.time()\n",
    "print(\"Total Wall Time: {}s\".format(end - start))"
   ]
  },
  {
   "cell_type": "markdown",
   "id": "2eec4c44",
   "metadata": {},
   "source": [
    "## LBFGS \n",
    "(Optional) LBFGS and feasibility related options"
   ]
  },
  {
   "cell_type": "code",
   "execution_count": 6,
   "id": "f97cf86d",
   "metadata": {},
   "outputs": [
    {
     "name": "stdout",
     "output_type": "stream",
     "text": [
      "\n",
      "\n",
      "\u001b[33m╔═════ QP SOLVER NOTICE ════════════════════════════════════════════════════════════════════╗\n",
      "\u001b[0m\u001b[33m║  NCVX requires a quadratic program (QP) solver that has a quadprog-compatible interface,  ║\n",
      "\u001b[0m\u001b[33m║  the default is osqp. Users may provide their own wrapper for the QP solver.              ║\n",
      "\u001b[0m\u001b[33m║  To disable this notice, set opts.quadprog_info_msg = False                               ║\n",
      "\u001b[0m\u001b[33m╚═══════════════════════════════════════════════════════════════════════════════════════════╝\n",
      "\u001b[0m═════════════════════════════════════════════════════════════════════════════════════════════════════════════════╗\n",
      "NCVX: A User-Friendly and Scalable Package for Nonconvex Optimization in Machine Learning                        ║ \n",
      "Version 1.1.1                                                                                                    ║ \n",
      "MIT License Copyright (c) 2021 SUN Group @ UMN                                                                   ║ \n",
      "═════════════════════════════════════════════════════════════════════════════════════════════════════════════════╣\n",
      "Problem specifications:                                                                                          ║ \n",
      " # of variables                     :   200                                                                      ║ \n",
      " # of inequality constraints        :     1                                                                      ║ \n",
      " # of equality constraints          :     0                                                                      ║ \n",
      "═════════════════════════════════════════════════════════════════════════════════════════════════════════════════╣\n",
      "\u001b[33mLimited-memory mode enabled with size = 40.                                                                     \u001b[0m ║ \n",
      "\u001b[33mNOTE: limited-memory mode is generally NOT                                                                      \u001b[0m ║ \n",
      "\u001b[33mrecommended for nonsmooth problems.                                                                             \u001b[0m ║ \n",
      "═════╦═══════════════════════════╦════════════════╦═════════════════╦═══════════════════════╦════════════════════╣\n",
      "     ║ <--- Penalty Function --> ║                ║ Total Violation ║ <--- Line Search ---> ║ <- Stationarity -> ║ \n",
      "Iter ║    Mu    │      Value     ║    Objective   ║   Ineq   │  Eq  ║ SD │ Evals │     t    ║ Grads │    Value   ║ \n",
      "═════╬═══════════════════════════╬════════════════╬═════════════════╬═══════════════════════╬════════════════════╣\n",
      "   0 ║ 1.000000 │  16.2063030241 ║  13.7635444107 ║ 2.442759 │   -  ║ -  │     1 │ 0.000000 ║     1 │ 28.28938   ║ \n",
      "  10 ║ 1.000000 │  14.3591621233 ║  12.9268286638 ║ 1.432333 │   -  ║ S  │     1 │ 1.000000 ║     1 │ 0.035476   ║ \n",
      "  20 ║ 1.000000 │  13.7108148212 ║  12.6560766192 ║ 1.054738 │   -  ║ S  │     2 │ 0.500000 ║     1 │ 0.039916   ║ \n",
      "  30 ║ 1.000000 │  12.9781024808 ║  12.2692651748 ║ 0.708837 │   -  ║ S  │     5 │ 0.062500 ║     1 │ 0.044753   ║ \n",
      "  40 ║ 1.000000 │  12.7159660799 ║  12.0997226025 ║ 0.616243 │   -  ║ S  │     4 │ 0.125000 ║     1 │ 0.024262   ║ \n",
      "  50 ║ 1.000000 │  12.4442878287 ║  11.9156949572 ║ 0.528593 │   -  ║ S  │     6 │ 0.031250 ║     1 │ 0.085052   ║ \n",
      "  60 ║ 1.000000 │  12.2169768208 ║  11.9336819474 ║ 0.283295 │   -  ║ S  │     5 │ 0.062500 ║     1 │ 0.048213   ║ \n",
      "  70 ║ 1.000000 │  11.9829435315 ║  11.8156417233 ║ 0.167302 │   -  ║ S  │    14 │ 3.66e-04 ║     1 │ 0.053810   ║ \n",
      "  80 ║ 0.656100 │  7.86582717536 ║  11.7264330023 ║ 0.172114 │   -  ║ S  │     9 │ 0.003906 ║     1 │ 1.209730   ║ \n",
      "  90 ║ 0.656100 │  7.80915840969 ║  11.6599468664 ║ 0.159067 │   -  ║ S  │     8 │ 0.007812 ║     1 │ 0.152102   ║ \n",
      " 100 ║ 0.656100 │  7.77271535489 ║  11.6562870552 ║ 0.125025 │   -  ║ S  │     5 │ 0.062500 ║     1 │ 0.197885   ║ \n",
      " 110 ║ 0.656100 │  7.69342237797 ║  11.6427615916 ║ 0.054606 │   -  ║ S  │    12 │ 4.88e-04 ║     1 │ 311.5387   ║ \n",
      " 120 ║ 0.387420 │  4.55837298598 ║  11.6358838959 ║ 0.050393 │   -  ║ S  │    10 │ 0.001953 ║     1 │ 1.022662   ║ \n",
      " 130 ║ 0.387420 │  4.51080201811 ║  11.6333093372 ║ 0.003820 │   -  ║ S  │    13 │ 2.44e-04 ║     1 │ 0.709034   ║ \n",
      " 140 ║ 0.387420 │  4.49913089518 ║  11.6130432513 ║ 0.000000 │   -  ║ S  │     9 │ 0.003906 ║     1 │ 4.972743   ║ \n",
      " 150 ║ 0.205891 │  2.39020049361 ║  11.6061300925 ║ 6.01e-04 │   -  ║ S  │     9 │ 0.003906 ║     1 │ 1.331003   ║ \n",
      " 160 ║ 0.205891 │  2.38900686794 ║  11.6032528630 ║ 0.000000 │   -  ║ S  │    16 │ 2.75e-04 ║     2 │ 0.121111   ║ \n",
      " 170 ║ 0.135085 │  1.56617827319 ║  11.5937536295 ║ 3.41e-05 │   -  ║ S  │     9 │ 0.003906 ║     1 │ 2.472018   ║ \n",
      " 180 ║ 0.047101 │  0.54593308189 ║  11.5906192161 ║ 0.000000 │   -  ║ S  │    13 │ 2.44e-04 ║     2 │ 0.040618   ║ \n",
      " 190 ║ 0.005726 │  0.06634168297 ║  11.5850758798 ║ 7.09e-07 │   -  ║ S  │    23 │ 2.38e-07 ║     2 │ 0.200639   ║ \n",
      "═════╬═══════════════════════════╬════════════════╬═════════════════╬═══════════════════════╬════════════════════╣\n",
      "     ║ <--- Penalty Function --> ║                ║ Total Violation ║ <--- Line Search ---> ║ <- Stationarity -> ║ \n",
      "Iter ║    Mu    │      Value     ║    Objective   ║   Ineq   │  Eq  ║ SD │ Evals │     t    ║ Grads │    Value   ║ \n",
      "═════╬═══════════════════════════╬════════════════╬═════════════════╬═══════════════════════╬════════════════════╣\n",
      " 200 ║ 0.004638 │  0.05371094350 ║  11.5796331252 ║ 0.000000 │   -  ║ S  │    15 │ 6.10e-05 ║     3 │ 0.053191   ║ \n",
      "═════╩═══════════════════════════╩════════════════╩═════════════════╩═══════════════════════╩════════════════════╣\n",
      "Optimization results:                                                                                            ║ \n",
      "F = final iterate, B = Best (to tolerance), MF = Most Feasible                                                   ║ \n",
      "═════╦═══════════════════════════╦════════════════╦═════════════════╦═══════════════════════╦════════════════════╣\n",
      "   F ║          │                ║  11.5796331252 ║ 0.000000 │   -  ║    │       │          ║       │            ║ \n",
      "   B ║          │                ║  11.5796167460 ║ 0.000000 │   -  ║    │       │          ║       │            ║ \n",
      "  MF ║          │                ║  11.5796167460 ║ 0.000000 │   -  ║    │       │          ║       │            ║ \n",
      "═════╩═══════════════════════════╩════════════════╩═════════════════╩═══════════════════════╩════════════════════╣\n",
      "Iterations:              200                                                                                     ║ \n",
      "Function evaluations:    1845                                                                                    ║ \n",
      "NCVX termination code: 4 --- max iterations reached.                                                             ║ \n",
      "═════════════════════════════════════════════════════════════════════════════════════════════════════════════════╝\n",
      "Total Wall Time: 132.89285254478455s\n"
     ]
    }
   ],
   "source": [
    "opts = Options()\n",
    "opts.maxit = 200\n",
    "opts.x0 = torch.zeros(p*m,1).to(device=device, dtype=torch.double)\n",
    "# print for every 10 iterations. default: 1\n",
    "opts.print_frequency = 10\n",
    "\n",
    "# Limited-memory mode is generally not recommended for nonsmooth\n",
    "# problems, such as this one, but it can nonetheless enabled if\n",
    "# desired/necessary.  opts.limited_mem_size == 0 is off, that is, \n",
    "# limited-memory mode is disabled.\n",
    "# Note that this example has 200 variables.\n",
    "opts.limited_mem_size = 40\n",
    "\n",
    "start = time.time()\n",
    "soln = ncvx(combinedFunction = comb_fn,var_dim_map = var_in, torch_device = device, user_opts = opts)\n",
    "end = time.time()\n",
    "print(\"Total Wall Time: {}s\".format(end - start))"
   ]
  },
  {
   "cell_type": "code",
   "execution_count": 7,
   "id": "8dff3916",
   "metadata": {},
   "outputs": [],
   "source": [
    "# We can also tune NCVX to more aggressively favor satisfying\n",
    "# feasibility over minimizing the objective.  Set feasibility_bias to\n",
    "# true to adjust the following three steering parameters away from\n",
    "# their default values.  For more details on these parameters, type\n",
    "# import ncvxOptionsAdvanced\n",
    "# help(ncvxOptionsAdvanced)\n",
    "import numpy as np\n",
    "opts = Options()\n",
    "feasibility_bias = True\n",
    "if feasibility_bias:\n",
    "    opts.steering_ineq_margin = np.inf    # default is 1e-6\n",
    "    opts.steering_c_viol = 0.9         # default is 0.1\n",
    "    opts.steering_c_mu = 0.1           # default is 0.9\n"
   ]
  },
  {
   "cell_type": "code",
   "execution_count": 8,
   "id": "3fb2e962",
   "metadata": {},
   "outputs": [
    {
     "name": "stdout",
     "output_type": "stream",
     "text": [
      "\n",
      "\n",
      "\u001b[33m╔═════ QP SOLVER NOTICE ════════════════════════════════════════════════════════════════════╗\n",
      "\u001b[0m\u001b[33m║  NCVX requires a quadratic program (QP) solver that has a quadprog-compatible interface,  ║\n",
      "\u001b[0m\u001b[33m║  the default is osqp. Users may provide their own wrapper for the QP solver.              ║\n",
      "\u001b[0m\u001b[33m║  To disable this notice, set opts.quadprog_info_msg = False                               ║\n",
      "\u001b[0m\u001b[33m╚═══════════════════════════════════════════════════════════════════════════════════════════╝\n",
      "\u001b[0m═════════════════════════════════════════════════════════════════════════════════════════════════════════════════╗\n",
      "NCVX: A User-Friendly and Scalable Package for Nonconvex Optimization in Machine Learning                        ║ \n",
      "Version 1.1.1                                                                                                    ║ \n",
      "MIT License Copyright (c) 2021 SUN Group @ UMN                                                                   ║ \n",
      "═════════════════════════════════════════════════════════════════════════════════════════════════════════════════╣\n",
      "Problem specifications:                                                                                          ║ \n",
      " # of variables                     :   200                                                                      ║ \n",
      " # of inequality constraints        :     1                                                                      ║ \n",
      " # of equality constraints          :     0                                                                      ║ \n",
      "═════╦═══════════════════════════╦════════════════╦═════════════════╦═══════════════════════╦════════════════════╣\n",
      "     ║ <--- Penalty Function --> ║                ║ Total Violation ║ <--- Line Search ---> ║ <- Stationarity -> ║ \n",
      "Iter ║    Mu    │      Value     ║    Objective   ║   Ineq   │  Eq  ║ SD │ Evals │     t    ║ Grads │    Value   ║ \n",
      "═════╬═══════════════════════════╬════════════════╬═════════════════╬═══════════════════════╬════════════════════╣\n",
      "   0 ║ 1.000000 │  16.2063030241 ║  13.7635444107 ║ 2.442759 │   -  ║ -  │     1 │ 0.000000 ║     1 │ 28.28938   ║ \n",
      "  10 ║ 0.100000 │  2.59802946760 ║  13.5350279096 ║ 1.244527 │   -  ║ S  │     4 │ 0.125000 ║     1 │ 0.021953   ║ \n",
      "  20 ║ 0.100000 │  2.19206992214 ║  13.1633300318 ║ 0.875737 │   -  ║ S  │     3 │ 0.250000 ║     1 │ 0.022714   ║ \n",
      "  30 ║ 0.100000 │  1.78022218437 ║  13.1123257659 ║ 0.468990 │   -  ║ S  │     8 │ 0.039062 ║     1 │ 0.002266   ║ \n",
      "  40 ║ 0.100000 │  1.62760111526 ║  13.0064275307 ║ 0.326958 │   -  ║ S  │     3 │ 0.250000 ║     1 │ 0.009626   ║ \n",
      "  50 ║ 0.100000 │  1.36861864889 ║  12.9968510787 ║ 0.068934 │   -  ║ S  │     1 │ 1.000000 ║     1 │ 0.006985   ║ \n",
      "  60 ║ 0.100000 │  1.27342223176 ║  12.7342223176 ║ 0.000000 │   -  ║ S  │     4 │ 0.125000 ║     1 │ 0.002375   ║ \n",
      "  70 ║ 0.010000 │  0.12640618287 ║  12.6406182870 ║ 0.000000 │   -  ║ S  │     1 │ 1.000000 ║     1 │ 0.001510   ║ \n",
      "  80 ║ 0.010000 │  0.12442418253 ║  12.4424182529 ║ 0.000000 │   -  ║ S  │     2 │ 2.000000 ║     1 │ 0.009707   ║ \n",
      "  90 ║ 0.010000 │  0.12312547496 ║  12.3125474965 ║ 0.000000 │   -  ║ S  │     2 │ 0.500000 ║     1 │ 0.001033   ║ \n",
      " 100 ║ 0.010000 │  0.12207507242 ║  12.2075072422 ║ 0.000000 │   -  ║ S  │     1 │ 1.000000 ║     1 │ 0.001422   ║ \n",
      " 110 ║ 0.010000 │  0.12144909803 ║  12.1449098029 ║ 0.000000 │   -  ║ S  │     1 │ 1.000000 ║     1 │ 0.001038   ║ \n",
      " 120 ║ 0.010000 │  0.12116396292 ║  12.1163962921 ║ 0.000000 │   -  ║ S  │     2 │ 2.000000 ║     1 │ 1.72e-04   ║ \n",
      " 130 ║ 1.00e-06 │  1.2110288e-05 ║  12.1102878203 ║ 0.000000 │   -  ║ S  │     2 │ 0.500000 ║     3 │ 1.38e-05   ║ \n",
      " 140 ║ 1.00e-06 │  1.2087598e-05 ║  12.0875981539 ║ 0.000000 │   -  ║ S  │     1 │ 1.000000 ║     1 │ 2.00e-04   ║ \n",
      " 150 ║ 1.00e-08 │  1.2081605e-07 ║  12.0816047280 ║ 0.000000 │   -  ║ S  │     1 │ 1.000000 ║     8 │ 9.94e-06   ║ \n",
      " 160 ║ 1.00e-08 │  1.2081349e-07 ║  12.0813493600 ║ 0.000000 │   -  ║ S  │     1 │ 1.000000 ║    17 │ 1.45e-07   ║ \n",
      " 170 ║ 1.00e-08 │  1.2081035e-07 ║  12.0810350753 ║ 0.000000 │   -  ║ S  │     5 │ 16.00000 ║    27 │ 1.61e-04   ║ \n",
      " 180 ║ 1.00e-08 │  1.2080558e-07 ║  12.0805583261 ║ 0.000000 │   -  ║ S  │     2 │ 2.000000 ║    11 │ 2.93e-05   ║ \n",
      " 190 ║ 1.00e-08 │  1.2080511e-07 ║  12.0805106721 ║ 0.000000 │   -  ║ S  │     1 │ 1.000000 ║    20 │ 9.29e-08   ║ \n",
      "═════╩═══════════════════════════╩════════════════╩═════════════════╩═══════════════════════╩════════════════════╣\n",
      "Optimization results:                                                                                            ║ \n",
      "F = final iterate, B = Best (to tolerance), MF = Most Feasible                                                   ║ \n",
      "═════╦═══════════════════════════╦════════════════╦═════════════════╦═══════════════════════╦════════════════════╣\n",
      "   F ║          │                ║  12.0803864397 ║ 9.89e-13 │   -  ║    │       │          ║       │            ║ \n",
      "   B ║          │                ║  12.0801907858 ║ 5.01e-07 │   -  ║    │       │          ║       │            ║ \n",
      "  MF ║          │                ║  12.0803994819 ║ 0.000000 │   -  ║    │       │          ║       │            ║ \n",
      "═════╩═══════════════════════════╩════════════════╩═════════════════╩═══════════════════════╩════════════════════╣\n",
      "Iterations:              195                                                                                     ║ \n",
      "Function evaluations:    705                                                                                     ║ \n",
      "NCVX termination code: 0 --- converged to stationarity and feasibility tolerances.                               ║ \n",
      "═════════════════════════════════════════════════════════════════════════════════════════════════════════════════╝\n",
      "Total Wall Time: 51.662193775177s\n"
     ]
    }
   ],
   "source": [
    "opts.maxit = 200\n",
    "opts.x0 = torch.zeros(p*m,1).to(device=device, dtype=torch.double)\n",
    "# print for every 10 iterations. default: 1\n",
    "opts.print_frequency = 10\n",
    "\n",
    "start = time.time()\n",
    "soln = ncvx(combinedFunction = comb_fn,var_dim_map = var_in, torch_device = device, user_opts = opts)\n",
    "end = time.time()\n",
    "print(\"Total Wall Time: {}s\".format(end - start))"
   ]
  },
  {
   "cell_type": "markdown",
   "id": "c1abe9e7",
   "metadata": {},
   "source": [
    "In my testing, with default parameters, NCVX will first obtain a\n",
    "feasible solution at iter ~= 160 and will reduce the objective to\n",
    "11.60 by the time it attains max iteration count of 200.\n",
    "\n",
    "With feasibility_bias = True, in my testing, NCVX will obtain its\n",
    "first feasible solution earlier, at iter ~= 60, but it will ultimately\n",
    "have reduced the objective value less, only to 12.21, by the end of\n",
    "its 200 maximum allowed iterations."
   ]
  }
 ],
 "metadata": {
  "kernelspec": {
   "display_name": "Python 3 (ipykernel)",
   "language": "python",
   "name": "python3"
  },
  "language_info": {
   "codemirror_mode": {
    "name": "ipython",
    "version": 3
   },
   "file_extension": ".py",
   "mimetype": "text/x-python",
   "name": "python",
   "nbconvert_exporter": "python",
   "pygments_lexer": "ipython3",
   "version": "3.9.7"
  }
 },
 "nbformat": 4,
 "nbformat_minor": 5
}
