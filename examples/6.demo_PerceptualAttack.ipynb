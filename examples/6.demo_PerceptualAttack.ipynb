{
 "cells": [
  {
   "cell_type": "markdown",
   "id": "5257bb27",
   "metadata": {},
   "source": [
    "# Perceptual Attack\n",
    "\n",
    "Apply neural perceptual attack to images taken from: Laidlaw, Cassidy, Sahil Singla, and Soheil Feizi. \"Perceptual adversarial robustness: Defense against unseen threat models.\" arXiv preprint arXiv:2006.12655 (2020)."
   ]
  },
  {
   "cell_type": "markdown",
   "id": "4364b1e6",
   "metadata": {},
   "source": [
    "## Problem Description"
   ]
  },
  {
   "cell_type": "markdown",
   "id": "344f7377",
   "metadata": {},
   "source": [
    "Given a classifier $f$ which maps any input image $x \\in X$ to its label $y = f(x) \\in Y$. The goal of neural perceptual attack is to find an input $\\widetilde{x}$ that is perceptually similar to the original input $x$ but can fool the classifier $f$. This can be formulated as:\n",
    "\n",
    "$$\\max_{\\widetilde{x}} L (f(\\widetilde{x}),y),$$\n",
    "$$\\text{s.t.}\\;\\; d(x,\\widetilde{x}) = ||\\phi(x) - \\phi (\\tilde{x}) ||_{2} \\leq \\epsilon$$\n",
    "Here $$L (f({x}),y) = \\max_{i\\neq y} (z_i(x) - z_y(x) ),$$\n",
    "where $z_i(x)$ is the $i$-th logit output of $f(x)$, and $\\phi(\\cdot)$ is a function that maps the input $x$ to  normalized, flattened activations"
   ]
  },
  {
   "cell_type": "markdown",
   "id": "08dfdd50",
   "metadata": {},
   "source": [
    "## Modules Importing\n",
    "Import all necessary modules and add NCVX src folder to system path. \n",
    "\n",
    "NOTE: the perceptual advex package (https://github.com/cassidylaidlaw/perceptual-advex.git) is required to calculate the distance "
   ]
  },
  {
   "cell_type": "code",
   "execution_count": 1,
   "id": "23c19f28",
   "metadata": {},
   "outputs": [],
   "source": [
    "# install required package\n",
    "try:\n",
    "    import perceptual_advex\n",
    "except ImportError:\n",
    "    !pip install perceptual-advex"
   ]
  },
  {
   "cell_type": "code",
   "execution_count": 2,
   "id": "90ed32f9",
   "metadata": {},
   "outputs": [],
   "source": [
    "import time\n",
    "import torch\n",
    "import sys\n",
    "## Adding NCVX directories. Should be modified by user\n",
    "sys.path.append('/home/buyun/Documents/GitHub/NCVX')\n",
    "from ncvx import ncvx\n",
    "from ncvxStruct import Options, GeneralStruct \n",
    "from private.getNvar import getNvarTorch\n",
    "\n",
    "sys.path.append('/home/buyun/Documents/GitHub/perceptual-advex')\n",
    "from perceptual_advex.utilities import get_dataset_model\n",
    "from perceptual_advex.perceptual_attacks import get_lpips_model\n",
    "from perceptual_advex.distances import normalize_flatten_features"
   ]
  },
  {
   "cell_type": "markdown",
   "id": "17a1b7fe",
   "metadata": {},
   "source": [
    "## Data Generation \n",
    "\n",
    "Specify torch device, neural network architecture, and generate data.\n",
    "\n",
    "NOTE: please specify path for downloading data.\n",
    "\n",
    "Use GPU for this problem. If no cuda device available, please set *device = torch.device('cpu')*"
   ]
  },
  {
   "cell_type": "code",
   "execution_count": 3,
   "id": "8b4842e1",
   "metadata": {},
   "outputs": [
    {
     "name": "stdout",
     "output_type": "stream",
     "text": [
      "=> loading checkpoint '/home/buyun/Documents/GitHub/perceptual-advex/data/checkpoints/cifar_pgd_l2_1.pt'\n",
      "==> Preparing dataset cifar..\n",
      "Files already downloaded and verified\n"
     ]
    }
   ],
   "source": [
    "device = torch.device('cuda')\n",
    "\n",
    "dataset, model = get_dataset_model(\n",
    "dataset='cifar',\n",
    "arch='resnet50',\n",
    "checkpoint_fname='/home/buyun/Documents/GitHub/perceptual-advex/data/checkpoints/cifar_pgd_l2_1.pt',\n",
    ")\n",
    "model = model.to(device=device, dtype=torch.double)\n",
    "# Create a validation set loader.\n",
    "batch_size = 1\n",
    "_, val_loader = dataset.make_loaders(1, batch_size, only_val=True, shuffle_val=False)\n",
    "\n",
    "inputs, labels = next(iter(val_loader))\n",
    "inputs = inputs.to(device=device, dtype=torch.double)\n",
    "labels = labels.to(device=device)\n",
    "lpips_model = get_lpips_model('alexnet_cifar', model).to(device=device, dtype=torch.double)\n",
    "\n",
    "# attack_type = 'L_2'\n",
    "# attack_type = 'L_inf'\n",
    "attack_type = 'Perceptual'"
   ]
  },
  {
   "cell_type": "markdown",
   "id": "ec80716b",
   "metadata": {},
   "source": [
    "## Problem Definition\n",
    "\n",
    "Specify torch device, optimization variables, and objective and constraint(s).\n",
    "\n",
    "Note: please strictly follow the format of comb_fn, which will be used in the NCVX main algortihm."
   ]
  },
  {
   "cell_type": "code",
   "execution_count": 4,
   "id": "fb360e75",
   "metadata": {},
   "outputs": [],
   "source": [
    "# variables and corresponding dimensions.\n",
    "var_in = {\"x_tilde\": list(inputs.shape)}\n",
    "\n",
    "def MarginLoss(logits,labels):\n",
    "    correct_logits = torch.gather(logits, 1, labels.view(-1, 1))\n",
    "    max_2_logits, argmax_2_logits = torch.topk(logits, 2, dim=1)\n",
    "    top_max, second_max = max_2_logits.chunk(2, dim=1)\n",
    "    top_argmax, _ = argmax_2_logits.chunk(2, dim=1)\n",
    "    labels_eq_max = top_argmax.squeeze().eq(labels).float().view(-1, 1)\n",
    "    labels_ne_max = top_argmax.squeeze().ne(labels).float().view(-1, 1)\n",
    "    max_incorrect_logits = labels_eq_max * second_max + labels_ne_max * top_max\n",
    "    loss = -(max_incorrect_logits - correct_logits).clamp(max=1).squeeze().sum()\n",
    "    return loss\n",
    "\n",
    "def comb_fn(X_struct):\n",
    "    adv_inputs = X_struct.x_tilde\n",
    "    adv_inputs.requires_grad_(True)\n",
    "    \n",
    "    # objective function\n",
    "    # 8/255 for L_inf, 1 for L_2, 0.5 for PPGD/LPA\n",
    "    if attack_type == 'L_2':\n",
    "        epsilon = 1\n",
    "    elif attack_type == 'L_inf':\n",
    "        epsilon = 8/255\n",
    "    else:\n",
    "        epsilon = 0.5\n",
    "\n",
    "    logits_outputs = model(adv_inputs)\n",
    "\n",
    "    f = MarginLoss(logits_outputs,labels)\n",
    "\n",
    "    # inequality constraint, matrix form\n",
    "    # ci = None\n",
    "    ci = GeneralStruct()\n",
    "    if attack_type == 'L_2':\n",
    "        ci.c1 = torch.norm((inputs - adv_inputs).reshape(inputs.size()[0], -1)) - epsilon\n",
    "    elif attack_type == 'L_inf':\n",
    "        ci.c1 = torch.norm((inputs - adv_inputs).reshape(inputs.size()[0], -1), float('inf')) - epsilon\n",
    "    else:\n",
    "        input_features = normalize_flatten_features( lpips_model.features(inputs)).detach()\n",
    "        adv_features = lpips_model.features(adv_inputs)\n",
    "        adv_features = normalize_flatten_features(adv_features)\n",
    "        lpips_dists = (adv_features - input_features).norm(dim=1)\n",
    "        ci.c1 = lpips_dists - epsilon\n",
    "    \n",
    "    # equality constraint \n",
    "    ce = None\n",
    "\n",
    "    return [f,ci,ce]\n"
   ]
  },
  {
   "cell_type": "markdown",
   "id": "f0f55ace",
   "metadata": {},
   "source": [
    "## User Options\n",
    "Specify user-defined options for NCVX "
   ]
  },
  {
   "cell_type": "code",
   "execution_count": 5,
   "id": "f3a65b57",
   "metadata": {},
   "outputs": [],
   "source": [
    "opts = Options()\n",
    "opts.QPsolver = 'osqp'\n",
    "opts.maxit = 100\n",
    "opts.opt_tol = 1e-6\n",
    "opts.fvalquit = 1e-6\n",
    "opts.print_level = 1\n",
    "opts.print_frequency = 10\n",
    "opts.x0 = torch.reshape(inputs,(torch.numel(inputs),1))"
   ]
  },
  {
   "cell_type": "markdown",
   "id": "8bca18c7",
   "metadata": {},
   "source": [
    "## Main Algorithm"
   ]
  },
  {
   "cell_type": "code",
   "execution_count": 6,
   "id": "632976b3",
   "metadata": {},
   "outputs": [
    {
     "name": "stderr",
     "output_type": "stream",
     "text": [
      "/home/buyun/anaconda3/envs/ncvx_cuda_env/lib/python3.9/site-packages/torch/nn/functional.py:718: UserWarning: Named tensors and all their associated APIs are an experimental feature and subject to change. Please do not use them for anything important until they are released as stable. (Triggered internally at  /opt/conda/conda-bld/pytorch_1623448255797/work/c10/core/TensorImpl.h:1156.)\n",
      "  return torch.max_pool2d(input, kernel_size, stride, padding, dilation, ceil_mode)\n"
     ]
    },
    {
     "name": "stdout",
     "output_type": "stream",
     "text": [
      "\n",
      "\n",
      "\u001b[33m╔═════ QP SOLVER NOTICE ════════════════════════════════════════════════════════════════════╗\n",
      "\u001b[0m\u001b[33m║  NCVX requires a quadratic program (QP) solver that has a quadprog-compatible interface,  ║\n",
      "\u001b[0m\u001b[33m║  the default is osqp. Users may provide their own wrapper for the QP solver.              ║\n",
      "\u001b[0m\u001b[33m║  To disable this notice, set opts.quadprog_info_msg = False                               ║\n",
      "\u001b[0m\u001b[33m╚═══════════════════════════════════════════════════════════════════════════════════════════╝\n",
      "\u001b[0m═════════════════════════════════════════════════════════════════════════════════════════════════════════════════╗\n",
      "NCVX: A User-Friendly and Scalable Package for Nonconvex Optimization in Machine Learning                        ║ \n",
      "Version 1.1.1                                                                                                    ║ \n",
      "MIT License Copyright (c) 2021 SUN Group @ UMN                                                                   ║ \n",
      "═════════════════════════════════════════════════════════════════════════════════════════════════════════════════╣\n",
      "Problem specifications:                                                                                          ║ \n",
      " # of variables                     :   3072                                                                     ║ \n",
      " # of inequality constraints        :      1                                                                     ║ \n",
      " # of equality constraints          :      0                                                                     ║ \n",
      "═════╦═══════════════════════════╦════════════════╦═════════════════╦═══════════════════════╦════════════════════╣\n",
      "     ║ <--- Penalty Function --> ║                ║ Total Violation ║ <--- Line Search ---> ║ <- Stationarity -> ║ \n",
      "Iter ║    Mu    │      Value     ║    Objective   ║   Ineq   │  Eq  ║ SD │ Evals │     t    ║ Grads │    Value   ║ \n",
      "═════╬═══════════════════════════╬════════════════╬═════════════════╬═══════════════════════╬════════════════════╣\n",
      "   0 ║ 1.000000 │  0.50909392739 ║  0.50909392739 ║ 0.000000 │   -  ║ -  │     1 │ 0.000000 ║     1 │ 0.752374   ║ \n",
      "  10 ║ 1.000000 │ -0.50872108700 ║ -0.88639971711 ║ 0.377679 │   -  ║ S  │     1 │ 1.000000 ║     1 │ 0.548706   ║ \n",
      "  20 ║ 1.000000 │ -0.95891162259 ║ -0.98694891810 ║ 0.028037 │   -  ║ S  │     1 │ 1.000000 ║     1 │ 1.136411   ║ \n",
      "═════╩═══════════════════════════╩════════════════╩═════════════════╩═══════════════════════╩════════════════════╣\n",
      "F = final iterate, B = Best (to tolerance), MF = Most Feasible                                                   ║ \n",
      "Optimization results:                                                                                            ║ \n",
      "═════╦═══════════════════════════╦════════════════╦═════════════════╦═══════════════════════╦════════════════════╣\n",
      "   F ║          │                ║ -1.00000000000 ║ 0.000000 │   -  ║    │       │          ║       │            ║ \n",
      "   B ║          │                ║ -1.00000000000 ║ 0.000000 │   -  ║    │       │          ║       │            ║ \n",
      "  MF ║          │                ║ -1.00000000000 ║ 0.000000 │   -  ║    │       │          ║       │            ║ \n",
      "═════╩═══════════════════════════╩════════════════╩═════════════════╩═══════════════════════╩════════════════════╣\n",
      "Iterations:              23                                                                                      ║ \n",
      "Function evaluations:    32                                                                                      ║ \n",
      "NCVX termination code: 0 --- converged to stationarity and feasibility tolerances.                               ║ \n",
      "═════════════════════════════════════════════════════════════════════════════════════════════════════════════════╝\n",
      "Total Wall Time: 4.66183614730835s\n"
     ]
    }
   ],
   "source": [
    "start = time.time()\n",
    "soln = ncvx(combinedFunction = comb_fn,var_dim_map = var_in, torch_device = device, user_opts = opts)\n",
    "end = time.time()\n",
    "print(\"Total Wall Time: {}s\".format(end - start))"
   ]
  },
  {
   "cell_type": "markdown",
   "id": "3dc1ca84",
   "metadata": {},
   "source": [
    "## Batch Attacks\n",
    "\n",
    "Apply attacks to multiple images by repeating above steps and calculate the success rate"
   ]
  },
  {
   "cell_type": "code",
   "execution_count": 7,
   "id": "49584c22",
   "metadata": {},
   "outputs": [
    {
     "name": "stderr",
     "output_type": "stream",
     "text": [
      "[W pthreadpool-cpp.cc:90] Warning: Leaking Caffe2 thread-pool after fork. (function pthreadpool)\n"
     ]
    },
    {
     "name": "stdout",
     "output_type": "stream",
     "text": [
      "i = 0\n"
     ]
    },
    {
     "name": "stderr",
     "output_type": "stream",
     "text": [
      "[W pthreadpool-cpp.cc:90] Warning: Leaking Caffe2 thread-pool after fork. (function pthreadpool)\n"
     ]
    },
    {
     "name": "stdout",
     "output_type": "stream",
     "text": [
      "i = 1\n"
     ]
    },
    {
     "name": "stderr",
     "output_type": "stream",
     "text": [
      "[W pthreadpool-cpp.cc:90] Warning: Leaking Caffe2 thread-pool after fork. (function pthreadpool)\n"
     ]
    },
    {
     "name": "stdout",
     "output_type": "stream",
     "text": [
      "i = 2\n"
     ]
    },
    {
     "name": "stderr",
     "output_type": "stream",
     "text": [
      "[W pthreadpool-cpp.cc:90] Warning: Leaking Caffe2 thread-pool after fork. (function pthreadpool)\n"
     ]
    },
    {
     "name": "stdout",
     "output_type": "stream",
     "text": [
      "i = 3\n"
     ]
    },
    {
     "name": "stderr",
     "output_type": "stream",
     "text": [
      "[W pthreadpool-cpp.cc:90] Warning: Leaking Caffe2 thread-pool after fork. (function pthreadpool)\n"
     ]
    },
    {
     "name": "stdout",
     "output_type": "stream",
     "text": [
      "i = 4\n"
     ]
    },
    {
     "name": "stderr",
     "output_type": "stream",
     "text": [
      "[W pthreadpool-cpp.cc:90] Warning: Leaking Caffe2 thread-pool after fork. (function pthreadpool)\n"
     ]
    },
    {
     "name": "stdout",
     "output_type": "stream",
     "text": [
      "i = 5\n"
     ]
    },
    {
     "name": "stderr",
     "output_type": "stream",
     "text": [
      "[W pthreadpool-cpp.cc:90] Warning: Leaking Caffe2 thread-pool after fork. (function pthreadpool)\n"
     ]
    },
    {
     "name": "stdout",
     "output_type": "stream",
     "text": [
      "i = 6\n"
     ]
    },
    {
     "name": "stderr",
     "output_type": "stream",
     "text": [
      "[W pthreadpool-cpp.cc:90] Warning: Leaking Caffe2 thread-pool after fork. (function pthreadpool)\n"
     ]
    },
    {
     "name": "stdout",
     "output_type": "stream",
     "text": [
      "i = 7\n"
     ]
    },
    {
     "name": "stderr",
     "output_type": "stream",
     "text": [
      "[W pthreadpool-cpp.cc:90] Warning: Leaking Caffe2 thread-pool after fork. (function pthreadpool)\n"
     ]
    },
    {
     "name": "stdout",
     "output_type": "stream",
     "text": [
      "i = 8\n"
     ]
    },
    {
     "name": "stderr",
     "output_type": "stream",
     "text": [
      "[W pthreadpool-cpp.cc:90] Warning: Leaking Caffe2 thread-pool after fork. (function pthreadpool)\n"
     ]
    },
    {
     "name": "stdout",
     "output_type": "stream",
     "text": [
      "i = 9\n",
      "\n",
      "\n",
      "\n",
      "Model train acc on the original image = 1.0\n",
      "Success rate of attack = 1.0\n",
      "Average distance between attacked image and original image = 0.4936783046052191\n",
      "Average run time of NCVX = 3.8924264907836914s, mean f_eval = 32.0 iters\n"
     ]
    }
   ],
   "source": [
    "total_count = 10\n",
    "total_diff = 0\n",
    "original_count = 0\n",
    "attack_count = 0\n",
    "total_time = 0\n",
    "total_iterations = 0  \n",
    "\n",
    "for i in range(total_count):\n",
    "    # Get a batch from the validation set.\n",
    "    inputs, labels = next(iter(val_loader))\n",
    "    inputs = inputs.to(device=device, dtype=torch.double)\n",
    "    labels = labels.to(device=device)\n",
    "\n",
    "    # variables and corresponding dimensions.\n",
    "    var_in = {\"x_tilde\": list(inputs.shape)}\n",
    "\n",
    "    opts.x0 = torch.reshape(inputs,(torch.numel(inputs),1))\n",
    "    # suppress output\n",
    "    opts.print_level = 0\n",
    "\n",
    "    pred_labels = model(inputs).argmax(1)\n",
    "    if pred_labels == labels:\n",
    "        original_count += 1\n",
    "    else:\n",
    "        continue\n",
    "    \n",
    "    start = time.time()\n",
    "    soln = ncvx(combinedFunction = comb_fn,var_dim_map = var_in, torch_device = device, user_opts = opts)\n",
    "    end = time.time()\n",
    "    print(\"i = %d\"%i)\n",
    "    \n",
    "    total_time += end - start\n",
    "    total_iterations += soln.fn_evals\n",
    "\n",
    "    final_adv_input = torch.reshape(soln.final.x,inputs.shape)\n",
    "    pred_labels2 = model(final_adv_input.to(device=device, dtype=torch.double)).argmax(1)\n",
    "\n",
    "    if pred_labels2 == labels:\n",
    "        attack_count += 1\n",
    "        \n",
    "    if attack_type == 'L_2':\n",
    "            diff = torch.norm((inputs.to(device=device, dtype=torch.double) - final_adv_input).reshape(inputs.size()[0], -1))\n",
    "    elif attack_type == 'L_inf':\n",
    "        diff = ( torch.norm((inputs.to(device=device, dtype=torch.double) - final_adv_input).reshape(inputs.size()[0], -1), float('inf') ) )\n",
    "    else:\n",
    "        input_features = normalize_flatten_features( lpips_model.features(inputs)).detach()\n",
    "        adv_features = lpips_model.features(final_adv_input)\n",
    "        adv_features = normalize_flatten_features(adv_features)\n",
    "        lpips_dists = torch.mean((adv_features - input_features).norm(dim=1))\n",
    "        diff = lpips_dists\n",
    "\n",
    "    total_diff += diff\n",
    "\n",
    "print(\"\\n\\n\\nModel train acc on the original image = {}\".format(( original_count/total_count )))\n",
    "print(\"Success rate of attack = {}\".format( (original_count-attack_count)/original_count ))\n",
    "print(\"Average distance between attacked image and original image = {}\".format(total_diff/original_count))\n",
    "print(\"Average run time of NCVX = {}s, mean f_eval = {} iters\".format(total_time/original_count,total_iterations/original_count))"
   ]
  }
 ],
 "metadata": {
  "kernelspec": {
   "display_name": "Python 3 (ipykernel)",
   "language": "python",
   "name": "python3"
  },
  "language_info": {
   "codemirror_mode": {
    "name": "ipython",
    "version": 3
   },
   "file_extension": ".py",
   "mimetype": "text/x-python",
   "name": "python",
   "nbconvert_exporter": "python",
   "pygments_lexer": "ipython3",
   "version": "3.9.7"
  }
 },
 "nbformat": 4,
 "nbformat_minor": 5
}
